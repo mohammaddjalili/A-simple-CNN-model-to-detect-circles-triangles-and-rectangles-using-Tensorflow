{
  "nbformat": 4,
  "nbformat_minor": 0,
  "metadata": {
    "colab": {
      "provenance": [],
      "gpuType": "T4",
      "include_colab_link": true
    },
    "kernelspec": {
      "name": "python3",
      "display_name": "Python 3"
    },
    "language_info": {
      "name": "python"
    },
    "accelerator": "GPU"
  },
  "cells": [
    {
      "cell_type": "markdown",
      "metadata": {
        "id": "view-in-github",
        "colab_type": "text"
      },
      "source": [
        "<a href=\"https://colab.research.google.com/github/mohammaddjalili/A-simple-CNN-model-to-detect-circles-triangles-and-rectangles-using-Tensorflow/blob/main/Code.ipynb\" target=\"_parent\"><img src=\"https://colab.research.google.com/assets/colab-badge.svg\" alt=\"Open In Colab\"/></a>"
      ]
    },
    {
      "cell_type": "code",
      "source": [
        "import tensorflow as tf\n",
        "from tensorflow import keras\n",
        "from tensorflow.keras import layers\n",
        "from tensorflow.keras.preprocessing.image import ImageDataGenerator\n",
        "import matplotlib.pyplot as plt\n",
        "\n",
        "from google.colab import drive\n",
        "drive.mount('/content/drive')\n",
        "import os\n",
        "os.chdir(\"/c(ontent/drive/MyDrive/q4/Shapes/Circle\")\n",
        "!ls\n",
        "from PIL import Image\n",
        "import os\n",
        "\n",
        "folder_path = \"/c(ontent/drive/MyDrive/q4/Shapes/Circle\"\n",
        "images = []\n",
        "\n",
        "for filename in os.listdir(folder_path):\n",
        "    if filename.endswith('.png'):\n",
        "        img_path = os.path.join(folder_path, filename)\n",
        "        img = Image.open(img_path)\n",
        "        images.append(img)"
      ],
      "metadata": {
        "id": "DNxaBAKgPQ3y"
      },
      "execution_count": null,
      "outputs": []
    },
    {
      "cell_type": "code",
      "source": [
        "folder_path = \"/content/drive/MyDrive/Colab Notebooks/soal4/s/S/Shapes/Rectangle\"\n",
        "images_Rec = []\n",
        "\n",
        "for filename in os.listdir(folder_path):\n",
        "    if filename.endswith('.png'):\n",
        "        img_path = os.path.join(folder_path, filename)\n",
        "        img = Image.open(img_path)\n",
        "        images_Rec.append(img)"
      ],
      "metadata": {
        "id": "xGZTGGDwQGn2"
      },
      "execution_count": null,
      "outputs": []
    },
    {
      "cell_type": "code",
      "source": [
        "folder_path = \"/content/drive/MyDrive/Colab Notebooks/soal4/s/S/Shapes/Triangle\"\n",
        "images_Tri = []\n",
        "\n",
        "for filename in os.listdir(folder_path):\n",
        "    if filename.endswith('.png'):\n",
        "        img_path = os.path.join(folder_path, filename)\n",
        "        img = Image.open(img_path)\n",
        "        images_Tri.append(img)"
      ],
      "metadata": {
        "id": "fTaLInKGQ6Pk"
      },
      "execution_count": null,
      "outputs": []
    },
    {
      "cell_type": "code",
      "source": [
        "import random\n",
        "import numpy as np\n",
        "\n",
        "# Combine the lists of images\n",
        "all_images = images + images_Rec + images_Tri\n",
        "\n",
        "# Create labels for each category (Circle, Rectangle, Triangle)\n",
        "labels_circle = [0] * len(images)\n",
        "labels_rectangle = [1] * len(images_Rec)\n",
        "labels_triangle = [2] * len(images_Tri)\n",
        "\n",
        "# Combine the labels\n",
        "all_labels = labels_circle + labels_rectangle + labels_triangle\n",
        "\n",
        "# Combine images and labels into pairs\n",
        "data = list(zip(all_images, all_labels))\n",
        "\n",
        "# Shuffle the data\n",
        "random.shuffle(data)\n",
        "\n",
        "# Split the data into images and labels again\n",
        "shuffled_images, shuffled_labels = zip(*data)\n",
        "\n",
        "# Convert images to numpy arrays\n",
        "shuffled_images = [tf.keras.preprocessing.image.img_to_array(img) for img in shuffled_images]\n",
        "shuffled_images = np.array(shuffled_images)\n",
        "\n",
        "# Convert labels to numpy array\n",
        "shuffled_labels = np.array(shuffled_labels)\n",
        "\n",
        "# Normalize pixel values to be between 0 and 1\n",
        "shuffled_images = shuffled_images / 255.0\n",
        "\n",
        "# Now shuffled_images and shuffled_labels can be used as your training data\n"
      ],
      "metadata": {
        "id": "YpxXAbxTRYYP"
      },
      "execution_count": null,
      "outputs": []
    },
    {
      "cell_type": "code",
      "source": [
        "from sklearn.model_selection import train_test_split\n",
        "\n",
        "# Split the data into training and testing sets\n",
        "train_images, test_images, train_labels, test_labels = train_test_split(\n",
        "    shuffled_images, shuffled_labels, test_size=20, random_state=42)"
      ],
      "metadata": {
        "id": "-K2XYaM5R0gs"
      },
      "execution_count": null,
      "outputs": []
    },
    {
      "cell_type": "code",
      "source": [
        "print(train_images.shape,test_images.shape)"
      ],
      "metadata": {
        "colab": {
          "base_uri": "https://localhost:8080/"
        },
        "id": "bOhIH8N-UNeN",
        "outputId": "f5e848bb-745e-4d63-d98b-677e23324400"
      },
      "execution_count": null,
      "outputs": [
        {
          "output_type": "stream",
          "name": "stdout",
          "text": [
            "(5980, 50, 50, 1) (20, 50, 50, 1)\n"
          ]
        }
      ]
    },
    {
      "cell_type": "code",
      "source": [
        "import tensorflow as tf\n",
        "from tensorflow.keras import layers, models\n",
        "import matplotlib.pyplot as plt\n",
        "\n",
        "# Assuming your images are grayscale with dimensions 50x50\n",
        "input_shape = (50, 50, 1)\n",
        "\n",
        "# Define the CNN model\n",
        "model = models.Sequential()\n",
        "\n",
        "model.add(layers.Conv2D(32, (3, 3), activation='relu', input_shape=input_shape))\n",
        "model.add(layers.MaxPooling2D((2, 2)))\n",
        "\n",
        "model.add(layers.Conv2D(64, (3, 3), activation='relu'))\n",
        "model.add(layers.MaxPooling2D((2, 2)))\n",
        "\n",
        "model.add(layers.Conv2D(128, (3, 3), activation='relu'))\n",
        "model.add(layers.MaxPooling2D((2, 2)))\n",
        "\n",
        "model.add(layers.Flatten())\n",
        "model.add(layers.Dense(128, activation='relu'))\n",
        "model.add(layers.Dense(3, activation='softmax'))  # Assuming 3 classes (Circle, Rectangle, Triangle)\n",
        "\n",
        "# Compile the model\n",
        "model.compile(optimizer='adam',\n",
        "              loss='sparse_categorical_crossentropy',\n",
        "              metrics=['accuracy'])\n",
        "\n",
        "# Train the model and save the training history\n",
        "history = model.fit(train_images, train_labels, epochs=10, validation_split=0.2)\n",
        "\n",
        "# Evaluate the model on test data\n",
        "test_loss, test_acc = model.evaluate(test_images, test_labels)\n",
        "print(f\"Test accuracy: {test_acc}\")\n",
        "\n",
        "# Plot the learning curve\n",
        "plt.plot(history.history['accuracy'], label='Training Accuracy')\n",
        "plt.plot(history.history['val_accuracy'], label='Validation Accuracy')\n",
        "plt.xlabel('Epoch')\n",
        "plt.ylabel('Accuracy')\n",
        "plt.legend()\n",
        "plt.title('Training and Validation Accuracy Over Epochs')\n",
        "plt.show()\n"
      ],
      "metadata": {
        "colab": {
          "base_uri": "https://localhost:8080/",
          "height": 854
        },
        "id": "LCWjPnbHRjZj",
        "outputId": "8f5b91e9-79c1-4d99-cbd8-04afae1c985a"
      },
      "execution_count": null,
      "outputs": [
        {
          "output_type": "stream",
          "name": "stdout",
          "text": [
            "Epoch 1/10\n",
            "150/150 [==============================] - 6s 9ms/step - loss: 0.3985 - accuracy: 0.8223 - val_loss: 0.1235 - val_accuracy: 0.9498\n",
            "Epoch 2/10\n",
            "150/150 [==============================] - 1s 6ms/step - loss: 0.0281 - accuracy: 0.9937 - val_loss: 0.0074 - val_accuracy: 0.9983\n",
            "Epoch 3/10\n",
            "150/150 [==============================] - 1s 7ms/step - loss: 0.0025 - accuracy: 0.9996 - val_loss: 0.0046 - val_accuracy: 1.0000\n",
            "Epoch 4/10\n",
            "150/150 [==============================] - 1s 7ms/step - loss: 0.0012 - accuracy: 0.9996 - val_loss: 0.0024 - val_accuracy: 0.9992\n",
            "Epoch 5/10\n",
            "150/150 [==============================] - 1s 6ms/step - loss: 7.0259e-04 - accuracy: 0.9998 - val_loss: 0.0019 - val_accuracy: 1.0000\n",
            "Epoch 6/10\n",
            "150/150 [==============================] - 1s 6ms/step - loss: 5.4948e-04 - accuracy: 0.9998 - val_loss: 0.0010 - val_accuracy: 1.0000\n",
            "Epoch 7/10\n",
            "150/150 [==============================] - 1s 5ms/step - loss: 4.3195e-04 - accuracy: 0.9998 - val_loss: 0.0011 - val_accuracy: 1.0000\n",
            "Epoch 8/10\n",
            "150/150 [==============================] - 1s 5ms/step - loss: 3.5575e-04 - accuracy: 0.9998 - val_loss: 8.0831e-04 - val_accuracy: 1.0000\n",
            "Epoch 9/10\n",
            "150/150 [==============================] - 1s 6ms/step - loss: 2.8556e-04 - accuracy: 0.9998 - val_loss: 0.0014 - val_accuracy: 1.0000\n",
            "Epoch 10/10\n",
            "150/150 [==============================] - 1s 6ms/step - loss: 1.6507e-04 - accuracy: 1.0000 - val_loss: 0.0011 - val_accuracy: 1.0000\n",
            "1/1 [==============================] - 0s 130ms/step - loss: 1.4865e-05 - accuracy: 1.0000\n",
            "Test accuracy: 1.0\n"
          ]
        },
        {
          "output_type": "display_data",
          "data": {
            "text/plain": [
              "<Figure size 640x480 with 1 Axes>"
            ],
            "image/png": "[encoded data removed]"
          },
          "metadata": {}
        }
      ]
    },
    {
      "cell_type": "code",
      "source": [
        "\n",
        "# Prediction of labels for test photos\n",
        "predictions = model.predict(test_images)import tensorflow as tf\n",
        "from tensorflow.keras import layers, models\n",
        "import matplotlib.pyplot as plt\n",
        "\n",
        "\n",
        "\n",
        "\n",
        "# Convert predicted probabilities to class labels\n",
        "predicted_labels = [tf.argmax(prediction).numpy() for prediction in predictions]\n",
        "\n",
        "# Display true labels and predicted labels side by side\n",
        "for true_label, predicted_label in zip(test_labels, predicted_labels):\n",
        "    print(f\"True Label: {true_label}, Predicted Label: {predicted_label}\")\n"
      ],
      "metadata": {
        "colab": {
          "base_uri": "https://localhost:8080/"
        },
        "id": "utT2fmyTSwKQ",
        "outputId": "fff88a5e-560e-4fb5-a82d-d8c485a0f8ff"
      },
      "execution_count": null,
      "outputs": [
        {
          "output_type": "stream",
          "name": "stdout",
          "text": [
            "1/1 [==============================] - 0s 72ms/step - loss: 1.4865e-05 - accuracy: 1.0000\n",
            "Test accuracy: 1.0\n",
            "1/1 [==============================] - 1s 518ms/step\n",
            "True Label: 2, Predicted Label: 2\n",
            "True Label: 2, Predicted Label: 2\n",
            "True Label: 0, Predicted Label: 0\n",
            "True Label: 0, Predicted Label: 0\n",
            "True Label: 1, Predicted Label: 1\n",
            "True Label: 0, Predicted Label: 0\n",
            "True Label: 0, Predicted Label: 0\n",
            "True Label: 0, Predicted Label: 0\n",
            "True Label: 1, Predicted Label: 1\n",
            "True Label: 2, Predicted Label: 2\n",
            "True Label: 1, Predicted Label: 1\n",
            "True Label: 1, Predicted Label: 1\n",
            "True Label: 2, Predicted Label: 2\n",
            "True Label: 2, Predicted Label: 2\n",
            "True Label: 0, Predicted Label: 0\n",
            "True Label: 0, Predicted Label: 0\n",
            "True Label: 1, Predicted Label: 1\n",
            "True Label: 1, Predicted Label: 1\n",
            "True Label: 2, Predicted Label: 2\n",
            "True Label: 1, Predicted Label: 1\n"
          ]
        }
      ]
    }
  ]
}